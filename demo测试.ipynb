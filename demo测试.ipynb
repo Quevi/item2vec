{
 "cells": [
  {
   "cell_type": "code",
   "execution_count": 1,
   "metadata": {},
   "outputs": [],
   "source": [
    "import web\n",
    "import pandas as pd\n",
    "from sklearn.neighbors import NearestNeighbors\n",
    "import numpy as np\n",
    "import urllib\n",
    "# import sys\n",
    "import json\n",
    "import tensorflow.keras as keras \n",
    "# 获取隐向量并归一化\n",
    "model = keras.models.load_model('model_d30_interrupted.model')\n",
    "X = model.layers[2].embeddings.numpy()\n",
    "normalized_X = [x / np.sqrt(x.dot(x)) for x in X]\n",
    "\n",
    "# 建立zid到index的映射\n",
    "anchor_list = pd.read_csv('anchor_list.csv')\n",
    "anchor_list = anchor_list.reset_index()\n",
    "anchor_list['index'] = anchor_list['index'] + 1\n",
    "zid2index = {zid: index for zid, index in zip(anchor_list['live_uid'], anchor_list['index'])}\n",
    "index2zid = {index: zid for index, zid in zip(anchor_list['index'], anchor_list['live_uid'])}"
   ]
  },
  {
   "cell_type": "code",
   "execution_count": 5,
   "metadata": {},
   "outputs": [
    {
     "data": {
      "text/plain": [
       "26195"
      ]
     },
     "execution_count": 5,
     "metadata": {},
     "output_type": "execute_result"
    }
   ],
   "source": [
    "len(zid2index)"
   ]
  },
  {
   "cell_type": "code",
   "execution_count": 6,
   "metadata": {},
   "outputs": [
    {
     "data": {
      "text/html": [
       "<div>\n",
       "<style scoped>\n",
       "    .dataframe tbody tr th:only-of-type {\n",
       "        vertical-align: middle;\n",
       "    }\n",
       "\n",
       "    .dataframe tbody tr th {\n",
       "        vertical-align: top;\n",
       "    }\n",
       "\n",
       "    .dataframe thead th {\n",
       "        text-align: right;\n",
       "    }\n",
       "</style>\n",
       "<table border=\"1\" class=\"dataframe\">\n",
       "  <thead>\n",
       "    <tr style=\"text-align: right;\">\n",
       "      <th></th>\n",
       "      <th>index</th>\n",
       "      <th>live_uid</th>\n",
       "      <th>count</th>\n",
       "    </tr>\n",
       "  </thead>\n",
       "  <tbody>\n",
       "    <tr>\n",
       "      <th>0</th>\n",
       "      <td>1</td>\n",
       "      <td>730183576</td>\n",
       "      <td>558593</td>\n",
       "    </tr>\n",
       "    <tr>\n",
       "      <th>1</th>\n",
       "      <td>2</td>\n",
       "      <td>16673072</td>\n",
       "      <td>123029</td>\n",
       "    </tr>\n",
       "    <tr>\n",
       "      <th>2</th>\n",
       "      <td>3</td>\n",
       "      <td>4994793</td>\n",
       "      <td>95888</td>\n",
       "    </tr>\n",
       "    <tr>\n",
       "      <th>3</th>\n",
       "      <td>4</td>\n",
       "      <td>21678553</td>\n",
       "      <td>94230</td>\n",
       "    </tr>\n",
       "    <tr>\n",
       "      <th>4</th>\n",
       "      <td>5</td>\n",
       "      <td>735415548</td>\n",
       "      <td>90641</td>\n",
       "    </tr>\n",
       "    <tr>\n",
       "      <th>...</th>\n",
       "      <td>...</td>\n",
       "      <td>...</td>\n",
       "      <td>...</td>\n",
       "    </tr>\n",
       "    <tr>\n",
       "      <th>26190</th>\n",
       "      <td>26191</td>\n",
       "      <td>7519946</td>\n",
       "      <td>1</td>\n",
       "    </tr>\n",
       "    <tr>\n",
       "      <th>26191</th>\n",
       "      <td>26192</td>\n",
       "      <td>45927808</td>\n",
       "      <td>1</td>\n",
       "    </tr>\n",
       "    <tr>\n",
       "      <th>26192</th>\n",
       "      <td>26193</td>\n",
       "      <td>700122389</td>\n",
       "      <td>1</td>\n",
       "    </tr>\n",
       "    <tr>\n",
       "      <th>26193</th>\n",
       "      <td>26194</td>\n",
       "      <td>34400945</td>\n",
       "      <td>1</td>\n",
       "    </tr>\n",
       "    <tr>\n",
       "      <th>26194</th>\n",
       "      <td>26195</td>\n",
       "      <td>572505143</td>\n",
       "      <td>1</td>\n",
       "    </tr>\n",
       "  </tbody>\n",
       "</table>\n",
       "<p>26195 rows × 3 columns</p>\n",
       "</div>"
      ],
      "text/plain": [
       "       index   live_uid   count\n",
       "0          1  730183576  558593\n",
       "1          2   16673072  123029\n",
       "2          3    4994793   95888\n",
       "3          4   21678553   94230\n",
       "4          5  735415548   90641\n",
       "...      ...        ...     ...\n",
       "26190  26191    7519946       1\n",
       "26191  26192   45927808       1\n",
       "26192  26193  700122389       1\n",
       "26193  26194   34400945       1\n",
       "26194  26195  572505143       1\n",
       "\n",
       "[26195 rows x 3 columns]"
      ]
     },
     "execution_count": 6,
     "metadata": {},
     "output_type": "execute_result"
    }
   ],
   "source": [
    "anchor_list"
   ]
  },
  {
   "cell_type": "code",
   "execution_count": 7,
   "metadata": {},
   "outputs": [],
   "source": [
    "nbrs = NearestNeighbors(n_neighbors=10, n_jobs=-1).fit(normalized_X)\n"
   ]
  },
  {
   "cell_type": "code",
   "execution_count": 8,
   "metadata": {},
   "outputs": [],
   "source": [
    "zid = 721745639"
   ]
  },
  {
   "cell_type": "code",
   "execution_count": 9,
   "metadata": {},
   "outputs": [],
   "source": [
    "query_point = normalized_X[zid2index[zid]]\n",
    "distances, indices = nbrs.kneighbors([query_point])\n",
    "\n",
    "similar_anchor_scores = [(2 - dist**2) / 2 for dist in distances[0]]\n",
    "similar_anchor_indices = indices[0]\n",
    "similar_anchor_zid = [index2zid[idx] for idx in similar_anchor_indices]"
   ]
  },
  {
   "cell_type": "code",
   "execution_count": 11,
   "metadata": {},
   "outputs": [
    {
     "data": {
      "text/plain": [
       "[721745639,\n",
       " 728765898,\n",
       " 727627432,\n",
       " 728765601,\n",
       " 601417360,\n",
       " 722742017,\n",
       " 722099292,\n",
       " 728764985,\n",
       " 722741708,\n",
       " 722099252]"
      ]
     },
     "execution_count": 11,
     "metadata": {},
     "output_type": "execute_result"
    }
   ],
   "source": [
    "similar_anchor_zid"
   ]
  },
  {
   "cell_type": "code",
   "execution_count": 20,
   "metadata": {},
   "outputs": [],
   "source": [
    "def query_by_url(url):\n",
    "    res_data = urllib.request.urlopen(url, timeout=30)\n",
    "    res = res_data.read()\n",
    "    res_json = json.loads(res)\n",
    "    return res_json\n",
    "\n",
    "def query_info_by_ids(ids):\n",
    "    info_dic = {}\n",
    "    for zid in ids:\n",
    "        try:\n",
    "            info_url = \"http://apigateway.inke.srv/user/infos?id=%s\" % zid\n",
    "            info_list = query_by_url(info_url)\n",
    "            if info_list[\"dm_error\"] == 0 and len(info_list[\"users\"]) > 0:\n",
    "                for info in info_list[\"users\"]:\n",
    "                    info_dic[str(info[\"id\"])] = info\n",
    "        except Exception as e:\n",
    "            print(e)\n",
    "            continue\n",
    "    return info_dic"
   ]
  },
  {
   "cell_type": "code",
   "execution_count": 22,
   "metadata": {},
   "outputs": [],
   "source": [
    "info_dic = query_info_by_ids(similar_anchor_zid)\n"
   ]
  },
  {
   "cell_type": "code",
   "execution_count": 24,
   "metadata": {},
   "outputs": [
    {
     "data": {
      "text/plain": [
       "10"
      ]
     },
     "execution_count": 24,
     "metadata": {},
     "output_type": "execute_result"
    }
   ],
   "source": [
    "len(info_dic)"
   ]
  },
  {
   "cell_type": "code",
   "execution_count": 33,
   "metadata": {},
   "outputs": [],
   "source": [
    "detail = info_dic[str(zid)]"
   ]
  },
  {
   "cell_type": "code",
   "execution_count": 37,
   "metadata": {},
   "outputs": [],
   "source": [
    "html_str = \"<!DOCTYPE html><html>\" \\\n",
    "   \"<head><meta http-equiv=\"'\"Content-Type\"'\" content=\"'\"text/html;charset=utf-8\"'\">\" \\\n",
    "   \"<title>基于item2vec的相似主播</title>\" \\\n",
    "   \"</head>\" \\\n",
    "   \"<body>\" \\\n",
    "   \"<hr><table border=\"\"∂1\"\">\" \\\n",
    "   \"<tr bgcolor=\"\"#C0C0C0\"\">\" \\\n",
    "   \"<th>zid</th>\" \\\n",
    "   \"<th>头像</th>\" \\\n",
    "   \"<th>直播间</th>\" \\\n",
    "   \"<th>余项相似度</th>\" \\\n",
    "   \"</tr>\"\n",
    "\n",
    "for zid, score in zip(similar_anchor_zid, similar_anchor_scores):\n",
    "    detail = info_dic[str(zid)]\n",
    "    html_str += \"<tr align=\"\"center\"\"  bgcolor=\"\"#FFFFF0\"\">\"\n",
    "    html_str += '<td><div style=\"width:180px;word-wrap:break-word;\" >%s</td>' % str(zid) # 添加uid\n",
    "    html_str += \"<td><img src=\"\"%s\"\" height=\"\"150\"\" width=\"\"150\"\"></td>\" % detail[\"portrait\"] # 添加头像\n",
    "    html_str += '<td><a href=\"http://www.inke.com/live.html?uid=%s\">VIEW LIVE</a></td>' % zid # 添加直播间链接\n",
    "    html_str += '<td><div style=\"width:180px;word-wrap:break-word;\" >%s</td>' % str(score) # 添加相似度\n",
    "    html_str += \"</tr>\"\n",
    "html_str += \"</table></body></html>\""
   ]
  },
  {
   "cell_type": "code",
   "execution_count": 38,
   "metadata": {},
   "outputs": [
    {
     "data": {
      "text/plain": [
       "'<!DOCTYPE html><html><head><meta http-equiv=\"Content-Type\" content=\"text/html;charset=utf-8\"><title>基于item2vec的相似主播</title></head><body><hr><table border=∂1><tr bgcolor=#C0C0C0><th>zid</th><th>头像</th><th>直播间</th><th>余项相似度</th></tr><tr align=center  bgcolor=#FFFFF0><td><div style=\"width:180px;word-wrap:break-word;\" >721745639</td><td><img src=http://img.ikstatic.cn/MTU2NjM3NTQxNDY2MyMgMzEjanBn.jpg height=150 width=150></td><td><a href=\"http://www.inke.com/live.html?uid=721745639\">VIEW LIVE</a></td><td><div style=\"width:180px;word-wrap:break-word;\" >1.0</td></tr><tr align=center  bgcolor=#FFFFF0><td><div style=\"width:180px;word-wrap:break-word;\" >728765898</td><td><img src=http://img.ikstatic.cn/MTU2Njg5NjU5NDM2NyMgNDAjanBn.jpg height=150 width=150></td><td><a href=\"http://www.inke.com/live.html?uid=728765898\">VIEW LIVE</a></td><td><div style=\"width:180px;word-wrap:break-word;\" >0.9759654912293284</td></tr><tr align=center  bgcolor=#FFFFF0><td><div style=\"width:180px;word-wrap:break-word;\" >727627432</td><td><img src=http://img.ikstatic.cn/MTU2NTQyNzYxNTQ1MyMgNTkjanBn.jpg height=150 width=150></td><td><a href=\"http://www.inke.com/live.html?uid=727627432\">VIEW LIVE</a></td><td><div style=\"width:180px;word-wrap:break-word;\" >0.9675048118508602</td></tr><tr align=center  bgcolor=#FFFFF0><td><div style=\"width:180px;word-wrap:break-word;\" >728765601</td><td><img src=http://img.ikstatic.cn/MTU2NjIxNTEwMTg3MyMxNTAjanBn.jpg height=150 width=150></td><td><a href=\"http://www.inke.com/live.html?uid=728765601\">VIEW LIVE</a></td><td><div style=\"width:180px;word-wrap:break-word;\" >0.9631196205514612</td></tr><tr align=center  bgcolor=#FFFFF0><td><div style=\"width:180px;word-wrap:break-word;\" >601417360</td><td><img src=http://img.ikstatic.cn/MTU2NjMwNTIzMDgxMyM5MDMjanBn.jpg height=150 width=150></td><td><a href=\"http://www.inke.com/live.html?uid=601417360\">VIEW LIVE</a></td><td><div style=\"width:180px;word-wrap:break-word;\" >0.9601461942894373</td></tr><tr align=center  bgcolor=#FFFFF0><td><div style=\"width:180px;word-wrap:break-word;\" >722742017</td><td><img src=http://img.ikstatic.cn/MTU2NTM1MzI2Njg5MSM2MzUjanBn.jpg height=150 width=150></td><td><a href=\"http://www.inke.com/live.html?uid=722742017\">VIEW LIVE</a></td><td><div style=\"width:180px;word-wrap:break-word;\" >0.9595979690327912</td></tr><tr align=center  bgcolor=#FFFFF0><td><div style=\"width:180px;word-wrap:break-word;\" >722099292</td><td><img src=http://img.ikstatic.cn/MTU2NjM4NjYxMDc1MyMxNDgjanBn.jpg height=150 width=150></td><td><a href=\"http://www.inke.com/live.html?uid=722099292\">VIEW LIVE</a></td><td><div style=\"width:180px;word-wrap:break-word;\" >0.9564197413584742</td></tr><tr align=center  bgcolor=#FFFFF0><td><div style=\"width:180px;word-wrap:break-word;\" >728764985</td><td><img src=http://img.ikstatic.cn/MTU2NTM1MjI3NDY2NyMxNDEjcG5n.png height=150 width=150></td><td><a href=\"http://www.inke.com/live.html?uid=728764985\">VIEW LIVE</a></td><td><div style=\"width:180px;word-wrap:break-word;\" >0.9562361502469914</td></tr><tr align=center  bgcolor=#FFFFF0><td><div style=\"width:180px;word-wrap:break-word;\" >722741708</td><td><img src=http://img.ikstatic.cn/MTU2NTQzMjY0MDgwNyM5OTQjanBn.jpg height=150 width=150></td><td><a href=\"http://www.inke.com/live.html?uid=722741708\">VIEW LIVE</a></td><td><div style=\"width:180px;word-wrap:break-word;\" >0.9548090527851735</td></tr><tr align=center  bgcolor=#FFFFF0><td><div style=\"width:180px;word-wrap:break-word;\" >722099252</td><td><img src=http://img.ikstatic.cn/MTU2NjM3NTcwMzIyMCMgMjcjanBn.jpg height=150 width=150></td><td><a href=\"http://www.inke.com/live.html?uid=722099252\">VIEW LIVE</a></td><td><div style=\"width:180px;word-wrap:break-word;\" >0.9542434815152956</td></tr></table></body></html>'"
      ]
     },
     "execution_count": 38,
     "metadata": {},
     "output_type": "execute_result"
    }
   ],
   "source": [
    "html_str"
   ]
  },
  {
   "cell_type": "code",
   "execution_count": null,
   "metadata": {},
   "outputs": [],
   "source": []
  }
 ],
 "metadata": {
  "kernelspec": {
   "display_name": "Python 3",
   "language": "python",
   "name": "python3"
  },
  "language_info": {
   "codemirror_mode": {
    "name": "ipython",
    "version": 3
   },
   "file_extension": ".py",
   "mimetype": "text/x-python",
   "name": "python",
   "nbconvert_exporter": "python",
   "pygments_lexer": "ipython3",
   "version": "3.7.6"
  }
 },
 "nbformat": 4,
 "nbformat_minor": 2
}

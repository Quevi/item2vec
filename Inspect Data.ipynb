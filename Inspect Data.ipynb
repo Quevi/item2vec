{
 "cells": [
  {
   "cell_type": "code",
   "execution_count": 1,
   "metadata": {},
   "outputs": [],
   "source": [
    "import tensorflow as tf\n",
    "import tensorflow.keras as keras\n",
    "import numpy as np\n",
    "import pandas as pd\n",
    "\n",
    "import random\n",
    "\n",
    "import gc\n",
    "\n",
    "%matplotlib inline"
   ]
  },
  {
   "cell_type": "markdown",
   "metadata": {},
   "source": [
    "# view_data = 用户观看主播的数据\n",
    "\n",
    "# anchor_list = 主播被观看的次数的数据"
   ]
  },
  {
   "cell_type": "code",
   "execution_count": 5,
   "metadata": {},
   "outputs": [],
   "source": [
    "view_data = pd.read_csv(\"../viewData/view_data.csv\")"
   ]
  },
  {
   "cell_type": "code",
   "execution_count": 6,
   "metadata": {},
   "outputs": [
    {
     "data": {
      "text/html": [
       "<div>\n",
       "<style scoped>\n",
       "    .dataframe tbody tr th:only-of-type {\n",
       "        vertical-align: middle;\n",
       "    }\n",
       "\n",
       "    .dataframe tbody tr th {\n",
       "        vertical-align: top;\n",
       "    }\n",
       "\n",
       "    .dataframe thead th {\n",
       "        text-align: right;\n",
       "    }\n",
       "</style>\n",
       "<table border=\"1\" class=\"dataframe\">\n",
       "  <thead>\n",
       "    <tr style=\"text-align: right;\">\n",
       "      <th></th>\n",
       "      <th>uid</th>\n",
       "      <th>live_uid</th>\n",
       "    </tr>\n",
       "  </thead>\n",
       "  <tbody>\n",
       "    <tr>\n",
       "      <td>0</td>\n",
       "      <td>159876050</td>\n",
       "      <td>724698357</td>\n",
       "    </tr>\n",
       "    <tr>\n",
       "      <td>1</td>\n",
       "      <td>735586379</td>\n",
       "      <td>724698357</td>\n",
       "    </tr>\n",
       "    <tr>\n",
       "      <td>2</td>\n",
       "      <td>735586379</td>\n",
       "      <td>724698357</td>\n",
       "    </tr>\n",
       "    <tr>\n",
       "      <td>3</td>\n",
       "      <td>108339673</td>\n",
       "      <td>724698357</td>\n",
       "    </tr>\n",
       "    <tr>\n",
       "      <td>4</td>\n",
       "      <td>108339673</td>\n",
       "      <td>724698357</td>\n",
       "    </tr>\n",
       "    <tr>\n",
       "      <td>...</td>\n",
       "      <td>...</td>\n",
       "      <td>...</td>\n",
       "    </tr>\n",
       "    <tr>\n",
       "      <td>18928319</td>\n",
       "      <td>722748450</td>\n",
       "      <td>14237047</td>\n",
       "    </tr>\n",
       "    <tr>\n",
       "      <td>18928320</td>\n",
       "      <td>99570557</td>\n",
       "      <td>733632108</td>\n",
       "    </tr>\n",
       "    <tr>\n",
       "      <td>18928321</td>\n",
       "      <td>134628369</td>\n",
       "      <td>733632108</td>\n",
       "    </tr>\n",
       "    <tr>\n",
       "      <td>18928322</td>\n",
       "      <td>735200625</td>\n",
       "      <td>735587024</td>\n",
       "    </tr>\n",
       "    <tr>\n",
       "      <td>18928323</td>\n",
       "      <td>35810362</td>\n",
       "      <td>735587024</td>\n",
       "    </tr>\n",
       "  </tbody>\n",
       "</table>\n",
       "<p>18928324 rows × 2 columns</p>\n",
       "</div>"
      ],
      "text/plain": [
       "                uid   live_uid\n",
       "0         159876050  724698357\n",
       "1         735586379  724698357\n",
       "2         735586379  724698357\n",
       "3         108339673  724698357\n",
       "4         108339673  724698357\n",
       "...             ...        ...\n",
       "18928319  722748450   14237047\n",
       "18928320   99570557  733632108\n",
       "18928321  134628369  733632108\n",
       "18928322  735200625  735587024\n",
       "18928323   35810362  735587024\n",
       "\n",
       "[18928324 rows x 2 columns]"
      ]
     },
     "execution_count": 6,
     "metadata": {},
     "output_type": "execute_result"
    }
   ],
   "source": [
    "view_data"
   ]
  },
  {
   "cell_type": "code",
   "execution_count": 7,
   "metadata": {},
   "outputs": [],
   "source": [
    "anchor_list = pd.read_csv(\"../viewData/anchor_list.csv\")"
   ]
  },
  {
   "cell_type": "code",
   "execution_count": 8,
   "metadata": {},
   "outputs": [
    {
     "data": {
      "text/html": [
       "<div>\n",
       "<style scoped>\n",
       "    .dataframe tbody tr th:only-of-type {\n",
       "        vertical-align: middle;\n",
       "    }\n",
       "\n",
       "    .dataframe tbody tr th {\n",
       "        vertical-align: top;\n",
       "    }\n",
       "\n",
       "    .dataframe thead th {\n",
       "        text-align: right;\n",
       "    }\n",
       "</style>\n",
       "<table border=\"1\" class=\"dataframe\">\n",
       "  <thead>\n",
       "    <tr style=\"text-align: right;\">\n",
       "      <th></th>\n",
       "      <th>live_uid</th>\n",
       "      <th>count</th>\n",
       "    </tr>\n",
       "  </thead>\n",
       "  <tbody>\n",
       "    <tr>\n",
       "      <td>0</td>\n",
       "      <td>730183576</td>\n",
       "      <td>558593</td>\n",
       "    </tr>\n",
       "    <tr>\n",
       "      <td>1</td>\n",
       "      <td>16673072</td>\n",
       "      <td>123029</td>\n",
       "    </tr>\n",
       "    <tr>\n",
       "      <td>2</td>\n",
       "      <td>4994793</td>\n",
       "      <td>95888</td>\n",
       "    </tr>\n",
       "    <tr>\n",
       "      <td>3</td>\n",
       "      <td>21678553</td>\n",
       "      <td>94230</td>\n",
       "    </tr>\n",
       "    <tr>\n",
       "      <td>4</td>\n",
       "      <td>735415548</td>\n",
       "      <td>90641</td>\n",
       "    </tr>\n",
       "    <tr>\n",
       "      <td>...</td>\n",
       "      <td>...</td>\n",
       "      <td>...</td>\n",
       "    </tr>\n",
       "    <tr>\n",
       "      <td>26190</td>\n",
       "      <td>7519946</td>\n",
       "      <td>1</td>\n",
       "    </tr>\n",
       "    <tr>\n",
       "      <td>26191</td>\n",
       "      <td>45927808</td>\n",
       "      <td>1</td>\n",
       "    </tr>\n",
       "    <tr>\n",
       "      <td>26192</td>\n",
       "      <td>700122389</td>\n",
       "      <td>1</td>\n",
       "    </tr>\n",
       "    <tr>\n",
       "      <td>26193</td>\n",
       "      <td>34400945</td>\n",
       "      <td>1</td>\n",
       "    </tr>\n",
       "    <tr>\n",
       "      <td>26194</td>\n",
       "      <td>572505143</td>\n",
       "      <td>1</td>\n",
       "    </tr>\n",
       "  </tbody>\n",
       "</table>\n",
       "<p>26195 rows × 2 columns</p>\n",
       "</div>"
      ],
      "text/plain": [
       "        live_uid   count\n",
       "0      730183576  558593\n",
       "1       16673072  123029\n",
       "2        4994793   95888\n",
       "3       21678553   94230\n",
       "4      735415548   90641\n",
       "...          ...     ...\n",
       "26190    7519946       1\n",
       "26191   45927808       1\n",
       "26192  700122389       1\n",
       "26193   34400945       1\n",
       "26194  572505143       1\n",
       "\n",
       "[26195 rows x 2 columns]"
      ]
     },
     "execution_count": 8,
     "metadata": {},
     "output_type": "execute_result"
    }
   ],
   "source": [
    "anchor_list"
   ]
  },
  {
   "cell_type": "code",
   "execution_count": 9,
   "metadata": {},
   "outputs": [],
   "source": [
    "anchor_list = anchor_list.reset_index()"
   ]
  },
  {
   "cell_type": "code",
   "execution_count": 10,
   "metadata": {},
   "outputs": [],
   "source": [
    "anchor_list['index'] = anchor_list['index'] + 1"
   ]
  },
  {
   "cell_type": "code",
   "execution_count": 11,
   "metadata": {},
   "outputs": [
    {
     "data": {
      "text/html": [
       "<div>\n",
       "<style scoped>\n",
       "    .dataframe tbody tr th:only-of-type {\n",
       "        vertical-align: middle;\n",
       "    }\n",
       "\n",
       "    .dataframe tbody tr th {\n",
       "        vertical-align: top;\n",
       "    }\n",
       "\n",
       "    .dataframe thead th {\n",
       "        text-align: right;\n",
       "    }\n",
       "</style>\n",
       "<table border=\"1\" class=\"dataframe\">\n",
       "  <thead>\n",
       "    <tr style=\"text-align: right;\">\n",
       "      <th></th>\n",
       "      <th>index</th>\n",
       "      <th>live_uid</th>\n",
       "      <th>count</th>\n",
       "    </tr>\n",
       "  </thead>\n",
       "  <tbody>\n",
       "    <tr>\n",
       "      <td>0</td>\n",
       "      <td>1</td>\n",
       "      <td>730183576</td>\n",
       "      <td>558593</td>\n",
       "    </tr>\n",
       "    <tr>\n",
       "      <td>1</td>\n",
       "      <td>2</td>\n",
       "      <td>16673072</td>\n",
       "      <td>123029</td>\n",
       "    </tr>\n",
       "    <tr>\n",
       "      <td>2</td>\n",
       "      <td>3</td>\n",
       "      <td>4994793</td>\n",
       "      <td>95888</td>\n",
       "    </tr>\n",
       "    <tr>\n",
       "      <td>3</td>\n",
       "      <td>4</td>\n",
       "      <td>21678553</td>\n",
       "      <td>94230</td>\n",
       "    </tr>\n",
       "    <tr>\n",
       "      <td>4</td>\n",
       "      <td>5</td>\n",
       "      <td>735415548</td>\n",
       "      <td>90641</td>\n",
       "    </tr>\n",
       "    <tr>\n",
       "      <td>...</td>\n",
       "      <td>...</td>\n",
       "      <td>...</td>\n",
       "      <td>...</td>\n",
       "    </tr>\n",
       "    <tr>\n",
       "      <td>26190</td>\n",
       "      <td>26191</td>\n",
       "      <td>7519946</td>\n",
       "      <td>1</td>\n",
       "    </tr>\n",
       "    <tr>\n",
       "      <td>26191</td>\n",
       "      <td>26192</td>\n",
       "      <td>45927808</td>\n",
       "      <td>1</td>\n",
       "    </tr>\n",
       "    <tr>\n",
       "      <td>26192</td>\n",
       "      <td>26193</td>\n",
       "      <td>700122389</td>\n",
       "      <td>1</td>\n",
       "    </tr>\n",
       "    <tr>\n",
       "      <td>26193</td>\n",
       "      <td>26194</td>\n",
       "      <td>34400945</td>\n",
       "      <td>1</td>\n",
       "    </tr>\n",
       "    <tr>\n",
       "      <td>26194</td>\n",
       "      <td>26195</td>\n",
       "      <td>572505143</td>\n",
       "      <td>1</td>\n",
       "    </tr>\n",
       "  </tbody>\n",
       "</table>\n",
       "<p>26195 rows × 3 columns</p>\n",
       "</div>"
      ],
      "text/plain": [
       "       index   live_uid   count\n",
       "0          1  730183576  558593\n",
       "1          2   16673072  123029\n",
       "2          3    4994793   95888\n",
       "3          4   21678553   94230\n",
       "4          5  735415548   90641\n",
       "...      ...        ...     ...\n",
       "26190  26191    7519946       1\n",
       "26191  26192   45927808       1\n",
       "26192  26193  700122389       1\n",
       "26193  26194   34400945       1\n",
       "26194  26195  572505143       1\n",
       "\n",
       "[26195 rows x 3 columns]"
      ]
     },
     "execution_count": 11,
     "metadata": {},
     "output_type": "execute_result"
    }
   ],
   "source": [
    "anchor_list"
   ]
  },
  {
   "cell_type": "code",
   "execution_count": 12,
   "metadata": {},
   "outputs": [
    {
     "data": {
      "text/plain": [
       "<matplotlib.axes._subplots.AxesSubplot at 0x7f3b401dc090>"
      ]
     },
     "execution_count": 12,
     "metadata": {},
     "output_type": "execute_result"
    },
    {
     "data": {
      "image/png": "[encoded data removed]",
      "text/plain": [
       "<Figure size 432x288 with 1 Axes>"
      ]
     },
     "metadata": {
      "needs_background": "light"
     },
     "output_type": "display_data"
    }
   ],
   "source": [
    "anchor_list.plot(x='index', y='count')"
   ]
  },
  {
   "cell_type": "markdown",
   "metadata": {},
   "source": [
    "# 数据处理，可以先不做，看看采样函数的作用再调"
   ]
  },
  {
   "cell_type": "code",
   "execution_count": 13,
   "metadata": {},
   "outputs": [
    {
     "data": {
      "text/html": [
       "<div>\n",
       "<style scoped>\n",
       "    .dataframe tbody tr th:only-of-type {\n",
       "        vertical-align: middle;\n",
       "    }\n",
       "\n",
       "    .dataframe tbody tr th {\n",
       "        vertical-align: top;\n",
       "    }\n",
       "\n",
       "    .dataframe thead th {\n",
       "        text-align: right;\n",
       "    }\n",
       "</style>\n",
       "<table border=\"1\" class=\"dataframe\">\n",
       "  <thead>\n",
       "    <tr style=\"text-align: right;\">\n",
       "      <th></th>\n",
       "      <th>index</th>\n",
       "      <th>live_uid</th>\n",
       "      <th>count</th>\n",
       "    </tr>\n",
       "  </thead>\n",
       "  <tbody>\n",
       "    <tr>\n",
       "      <td>0</td>\n",
       "      <td>1</td>\n",
       "      <td>730183576</td>\n",
       "      <td>558593</td>\n",
       "    </tr>\n",
       "    <tr>\n",
       "      <td>1</td>\n",
       "      <td>2</td>\n",
       "      <td>16673072</td>\n",
       "      <td>123029</td>\n",
       "    </tr>\n",
       "    <tr>\n",
       "      <td>2</td>\n",
       "      <td>3</td>\n",
       "      <td>4994793</td>\n",
       "      <td>95888</td>\n",
       "    </tr>\n",
       "    <tr>\n",
       "      <td>3</td>\n",
       "      <td>4</td>\n",
       "      <td>21678553</td>\n",
       "      <td>94230</td>\n",
       "    </tr>\n",
       "    <tr>\n",
       "      <td>4</td>\n",
       "      <td>5</td>\n",
       "      <td>735415548</td>\n",
       "      <td>90641</td>\n",
       "    </tr>\n",
       "    <tr>\n",
       "      <td>...</td>\n",
       "      <td>...</td>\n",
       "      <td>...</td>\n",
       "      <td>...</td>\n",
       "    </tr>\n",
       "    <tr>\n",
       "      <td>26190</td>\n",
       "      <td>26191</td>\n",
       "      <td>7519946</td>\n",
       "      <td>1</td>\n",
       "    </tr>\n",
       "    <tr>\n",
       "      <td>26191</td>\n",
       "      <td>26192</td>\n",
       "      <td>45927808</td>\n",
       "      <td>1</td>\n",
       "    </tr>\n",
       "    <tr>\n",
       "      <td>26192</td>\n",
       "      <td>26193</td>\n",
       "      <td>700122389</td>\n",
       "      <td>1</td>\n",
       "    </tr>\n",
       "    <tr>\n",
       "      <td>26193</td>\n",
       "      <td>26194</td>\n",
       "      <td>34400945</td>\n",
       "      <td>1</td>\n",
       "    </tr>\n",
       "    <tr>\n",
       "      <td>26194</td>\n",
       "      <td>26195</td>\n",
       "      <td>572505143</td>\n",
       "      <td>1</td>\n",
       "    </tr>\n",
       "  </tbody>\n",
       "</table>\n",
       "<p>26195 rows × 3 columns</p>\n",
       "</div>"
      ],
      "text/plain": [
       "       index   live_uid   count\n",
       "0          1  730183576  558593\n",
       "1          2   16673072  123029\n",
       "2          3    4994793   95888\n",
       "3          4   21678553   94230\n",
       "4          5  735415548   90641\n",
       "...      ...        ...     ...\n",
       "26190  26191    7519946       1\n",
       "26191  26192   45927808       1\n",
       "26192  26193  700122389       1\n",
       "26193  26194   34400945       1\n",
       "26194  26195  572505143       1\n",
       "\n",
       "[26195 rows x 3 columns]"
      ]
     },
     "execution_count": 13,
     "metadata": {},
     "output_type": "execute_result"
    }
   ],
   "source": [
    "anchor_list"
   ]
  },
  {
   "cell_type": "code",
   "execution_count": 46,
   "metadata": {},
   "outputs": [],
   "source": [
    "frequent_anchor = anchor_list[anchor_list['count']>=10]"
   ]
  },
  {
   "cell_type": "code",
   "execution_count": 41,
   "metadata": {},
   "outputs": [
    {
     "data": {
      "text/plain": [
       "26195"
      ]
     },
     "execution_count": 41,
     "metadata": {},
     "output_type": "execute_result"
    }
   ],
   "source": [
    "len(anchor_list)"
   ]
  },
  {
   "cell_type": "markdown",
   "metadata": {},
   "source": [
    "# 定义采样函数"
   ]
  },
  {
   "cell_type": "code",
   "execution_count": 79,
   "metadata": {},
   "outputs": [],
   "source": [
    "def item2vec_sampling(data, vocabulary_size,\n",
    "            negative_samples=1., shuffle=True,\n",
    "            categorical=False, sampling_table=None, seed=None):\n",
    "    \"\"\"\n",
    "    data: List[List[Int]]\n",
    "    vocabulary_size: number of all anchors\n",
    "    negative_samples: number of negative samples / number of positive samples\n",
    "    shuffle: whether to shuffle the return value\n",
    "    categorical: whether to use one-hot label or binary label\n",
    "    sampling_table: whether to use a sampling table to down sample frequent anchors and over sample infrequent ones\n",
    "    seed: whether to use a fixed random seed\n",
    "    returns: a list of instance pairs and a list of labels\n",
    "    \"\"\"\n",
    "    couples = []\n",
    "    labels = []\n",
    "    couples_append = couples.append\n",
    "    labels_append = labels.append\n",
    "\n",
    "    for sequence in data:\n",
    "        if len(sequence) <= 1:\n",
    "            continue\n",
    "            \n",
    "        for wi in sequence:\n",
    "            if not wi:\n",
    "                continue\n",
    "            if sampling_table is not None:\n",
    "                if sampling_table[wi] < random.random():\n",
    "                    continue\n",
    "\n",
    "            for wj in sequence:\n",
    "                if wj != wi:\n",
    "                    if not wj:\n",
    "                        continue\n",
    "                    couples_append([wi, wj])\n",
    "                    if categorical:\n",
    "                        labels_append([0, 1])\n",
    "                    else:\n",
    "                        labels_append(1)\n",
    "\n",
    "    if negative_samples > 0:\n",
    "        num_negative_samples = int(len(labels) * negative_samples)\n",
    "        words = [c[0] for c in couples]\n",
    "        random.shuffle(words)\n",
    "\n",
    "        couples += [[words[i % len(words)],\n",
    "                     random.randint(1, vocabulary_size)]\n",
    "                    for i in range(num_negative_samples)]\n",
    "        if categorical:\n",
    "            labels += [[1, 0]] * num_negative_samples\n",
    "        else:\n",
    "            labels += [0] * num_negative_samples\n",
    "\n",
    "    if shuffle:\n",
    "        if seed is None:\n",
    "            seed = random.randint(0, 10e6)\n",
    "        random.seed(seed)\n",
    "        random.shuffle(couples)\n",
    "        random.seed(seed)\n",
    "        random.shuffle(labels)\n",
    "\n",
    "    return couples, labels"
   ]
  },
  {
   "cell_type": "markdown",
   "metadata": {},
   "source": [
    "# 定义live_uid到index和index到live_uid的映射"
   ]
  },
  {
   "cell_type": "code",
   "execution_count": 47,
   "metadata": {},
   "outputs": [],
   "source": [
    "index2uid = dict([(i, uid) for i, uid in zip(frequent_anchor['index'], frequent_anchor['live_uid'])])"
   ]
  },
  {
   "cell_type": "code",
   "execution_count": 48,
   "metadata": {},
   "outputs": [],
   "source": [
    "uid2index = dict([(uid, i) for uid, i in zip(frequent_anchor['live_uid'], frequent_anchor['index'])])"
   ]
  },
  {
   "cell_type": "markdown",
   "metadata": {},
   "source": [
    "# 将观看数据处理成Iterable[Iterable[Int]]的格式"
   ]
  },
  {
   "cell_type": "code",
   "execution_count": 49,
   "metadata": {},
   "outputs": [],
   "source": [
    "view_data['index'] = view_data['live_uid'].map(uid2index)"
   ]
  },
  {
   "cell_type": "code",
   "execution_count": 50,
   "metadata": {},
   "outputs": [
    {
     "data": {
      "text/html": [
       "<div>\n",
       "<style scoped>\n",
       "    .dataframe tbody tr th:only-of-type {\n",
       "        vertical-align: middle;\n",
       "    }\n",
       "\n",
       "    .dataframe tbody tr th {\n",
       "        vertical-align: top;\n",
       "    }\n",
       "\n",
       "    .dataframe thead th {\n",
       "        text-align: right;\n",
       "    }\n",
       "</style>\n",
       "<table border=\"1\" class=\"dataframe\">\n",
       "  <thead>\n",
       "    <tr style=\"text-align: right;\">\n",
       "      <th></th>\n",
       "      <th>uid</th>\n",
       "      <th>live_uid</th>\n",
       "      <th>index</th>\n",
       "    </tr>\n",
       "  </thead>\n",
       "  <tbody>\n",
       "    <tr>\n",
       "      <td>0</td>\n",
       "      <td>159876050</td>\n",
       "      <td>724698357</td>\n",
       "      <td>7471.0</td>\n",
       "    </tr>\n",
       "    <tr>\n",
       "      <td>1</td>\n",
       "      <td>735586379</td>\n",
       "      <td>724698357</td>\n",
       "      <td>7471.0</td>\n",
       "    </tr>\n",
       "    <tr>\n",
       "      <td>2</td>\n",
       "      <td>735586379</td>\n",
       "      <td>724698357</td>\n",
       "      <td>7471.0</td>\n",
       "    </tr>\n",
       "    <tr>\n",
       "      <td>3</td>\n",
       "      <td>108339673</td>\n",
       "      <td>724698357</td>\n",
       "      <td>7471.0</td>\n",
       "    </tr>\n",
       "    <tr>\n",
       "      <td>4</td>\n",
       "      <td>108339673</td>\n",
       "      <td>724698357</td>\n",
       "      <td>7471.0</td>\n",
       "    </tr>\n",
       "    <tr>\n",
       "      <td>...</td>\n",
       "      <td>...</td>\n",
       "      <td>...</td>\n",
       "      <td>...</td>\n",
       "    </tr>\n",
       "    <tr>\n",
       "      <td>18928319</td>\n",
       "      <td>722748450</td>\n",
       "      <td>14237047</td>\n",
       "      <td>NaN</td>\n",
       "    </tr>\n",
       "    <tr>\n",
       "      <td>18928320</td>\n",
       "      <td>99570557</td>\n",
       "      <td>733632108</td>\n",
       "      <td>8719.0</td>\n",
       "    </tr>\n",
       "    <tr>\n",
       "      <td>18928321</td>\n",
       "      <td>134628369</td>\n",
       "      <td>733632108</td>\n",
       "      <td>8719.0</td>\n",
       "    </tr>\n",
       "    <tr>\n",
       "      <td>18928322</td>\n",
       "      <td>735200625</td>\n",
       "      <td>735587024</td>\n",
       "      <td>4197.0</td>\n",
       "    </tr>\n",
       "    <tr>\n",
       "      <td>18928323</td>\n",
       "      <td>35810362</td>\n",
       "      <td>735587024</td>\n",
       "      <td>4197.0</td>\n",
       "    </tr>\n",
       "  </tbody>\n",
       "</table>\n",
       "<p>18928324 rows × 3 columns</p>\n",
       "</div>"
      ],
      "text/plain": [
       "                uid   live_uid   index\n",
       "0         159876050  724698357  7471.0\n",
       "1         735586379  724698357  7471.0\n",
       "2         735586379  724698357  7471.0\n",
       "3         108339673  724698357  7471.0\n",
       "4         108339673  724698357  7471.0\n",
       "...             ...        ...     ...\n",
       "18928319  722748450   14237047     NaN\n",
       "18928320   99570557  733632108  8719.0\n",
       "18928321  134628369  733632108  8719.0\n",
       "18928322  735200625  735587024  4197.0\n",
       "18928323   35810362  735587024  4197.0\n",
       "\n",
       "[18928324 rows x 3 columns]"
      ]
     },
     "execution_count": 50,
     "metadata": {},
     "output_type": "execute_result"
    }
   ],
   "source": [
    "view_data"
   ]
  },
  {
   "cell_type": "code",
   "execution_count": 51,
   "metadata": {},
   "outputs": [
    {
     "data": {
      "text/html": [
       "<div>\n",
       "<style scoped>\n",
       "    .dataframe tbody tr th:only-of-type {\n",
       "        vertical-align: middle;\n",
       "    }\n",
       "\n",
       "    .dataframe tbody tr th {\n",
       "        vertical-align: top;\n",
       "    }\n",
       "\n",
       "    .dataframe thead th {\n",
       "        text-align: right;\n",
       "    }\n",
       "</style>\n",
       "<table border=\"1\" class=\"dataframe\">\n",
       "  <thead>\n",
       "    <tr style=\"text-align: right;\">\n",
       "      <th></th>\n",
       "      <th>uid</th>\n",
       "      <th>live_uid</th>\n",
       "      <th>index</th>\n",
       "    </tr>\n",
       "  </thead>\n",
       "  <tbody>\n",
       "    <tr>\n",
       "      <td>0</td>\n",
       "      <td>159876050</td>\n",
       "      <td>724698357</td>\n",
       "      <td>7471.0</td>\n",
       "    </tr>\n",
       "    <tr>\n",
       "      <td>1</td>\n",
       "      <td>735586379</td>\n",
       "      <td>724698357</td>\n",
       "      <td>7471.0</td>\n",
       "    </tr>\n",
       "    <tr>\n",
       "      <td>2</td>\n",
       "      <td>735586379</td>\n",
       "      <td>724698357</td>\n",
       "      <td>7471.0</td>\n",
       "    </tr>\n",
       "    <tr>\n",
       "      <td>3</td>\n",
       "      <td>108339673</td>\n",
       "      <td>724698357</td>\n",
       "      <td>7471.0</td>\n",
       "    </tr>\n",
       "    <tr>\n",
       "      <td>4</td>\n",
       "      <td>108339673</td>\n",
       "      <td>724698357</td>\n",
       "      <td>7471.0</td>\n",
       "    </tr>\n",
       "    <tr>\n",
       "      <td>...</td>\n",
       "      <td>...</td>\n",
       "      <td>...</td>\n",
       "      <td>...</td>\n",
       "    </tr>\n",
       "    <tr>\n",
       "      <td>18928318</td>\n",
       "      <td>80080259</td>\n",
       "      <td>287009768</td>\n",
       "      <td>5403.0</td>\n",
       "    </tr>\n",
       "    <tr>\n",
       "      <td>18928320</td>\n",
       "      <td>99570557</td>\n",
       "      <td>733632108</td>\n",
       "      <td>8719.0</td>\n",
       "    </tr>\n",
       "    <tr>\n",
       "      <td>18928321</td>\n",
       "      <td>134628369</td>\n",
       "      <td>733632108</td>\n",
       "      <td>8719.0</td>\n",
       "    </tr>\n",
       "    <tr>\n",
       "      <td>18928322</td>\n",
       "      <td>735200625</td>\n",
       "      <td>735587024</td>\n",
       "      <td>4197.0</td>\n",
       "    </tr>\n",
       "    <tr>\n",
       "      <td>18928323</td>\n",
       "      <td>35810362</td>\n",
       "      <td>735587024</td>\n",
       "      <td>4197.0</td>\n",
       "    </tr>\n",
       "  </tbody>\n",
       "</table>\n",
       "<p>18893050 rows × 3 columns</p>\n",
       "</div>"
      ],
      "text/plain": [
       "                uid   live_uid   index\n",
       "0         159876050  724698357  7471.0\n",
       "1         735586379  724698357  7471.0\n",
       "2         735586379  724698357  7471.0\n",
       "3         108339673  724698357  7471.0\n",
       "4         108339673  724698357  7471.0\n",
       "...             ...        ...     ...\n",
       "18928318   80080259  287009768  5403.0\n",
       "18928320   99570557  733632108  8719.0\n",
       "18928321  134628369  733632108  8719.0\n",
       "18928322  735200625  735587024  4197.0\n",
       "18928323   35810362  735587024  4197.0\n",
       "\n",
       "[18893050 rows x 3 columns]"
      ]
     },
     "execution_count": 51,
     "metadata": {},
     "output_type": "execute_result"
    }
   ],
   "source": [
    "view_data.dropna()"
   ]
  },
  {
   "cell_type": "code",
   "execution_count": 53,
   "metadata": {},
   "outputs": [],
   "source": [
    "data = {}\n",
    "for uid, index in view_data[['uid', 'index']].dropna().values:\n",
    "    if uid not in data:\n",
    "        data[uid] = set()\n",
    "    data[uid].add(int(index))"
   ]
  },
  {
   "cell_type": "markdown",
   "metadata": {},
   "source": [
    "# 采样"
   ]
  },
  {
   "cell_type": "code",
   "execution_count": 55,
   "metadata": {},
   "outputs": [],
   "source": [
    "V = len(index2uid)"
   ]
  },
  {
   "cell_type": "code",
   "execution_count": 57,
   "metadata": {},
   "outputs": [],
   "source": [
    "sampling_table = keras.preprocessing.sequence.make_sampling_table(V + 1)"
   ]
  },
  {
   "cell_type": "code",
   "execution_count": 60,
   "metadata": {},
   "outputs": [
    {
     "data": {
      "text/plain": [
       "15471"
      ]
     },
     "execution_count": 60,
     "metadata": {},
     "output_type": "execute_result"
    }
   ],
   "source": [
    "len(sampling_table)"
   ]
  },
  {
   "cell_type": "code",
   "execution_count": 59,
   "metadata": {},
   "outputs": [
    {
     "data": {
      "text/plain": [
       "5274"
      ]
     },
     "execution_count": 59,
     "metadata": {},
     "output_type": "execute_result"
    }
   ],
   "source": [
    "len(sampling_table[sampling_table==1])"
   ]
  },
  {
   "cell_type": "code",
   "execution_count": null,
   "metadata": {},
   "outputs": [],
   "source": [
    "couples, labels = item2vec_sampling(data.values(), V, sampling_table=sampling_table, shuffle=False)"
   ]
  },
  {
   "cell_type": "code",
   "execution_count": null,
   "metadata": {},
   "outputs": [],
   "source": []
  }
 ],
 "metadata": {
  "kernelspec": {
   "display_name": "Python 3",
   "language": "python",
   "name": "python3"
  },
  "language_info": {
   "codemirror_mode": {
    "name": "ipython",
    "version": 3
   },
   "file_extension": ".py",
   "mimetype": "text/x-python",
   "name": "python",
   "nbconvert_exporter": "python",
   "pygments_lexer": "ipython3",
   "version": "3.7.6"
  }
 },
 "nbformat": 4,
 "nbformat_minor": 2
}

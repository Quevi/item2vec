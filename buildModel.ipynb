{
 "cells": [
  {
   "cell_type": "code",
   "execution_count": 2,
   "metadata": {},
   "outputs": [],
   "source": [
    "import tensorflow as tf\n",
    "import tensorflow.keras as keras\n",
    "import numpy as np\n",
    "import pandas as pd\n",
    "\n",
    "import random\n",
    "\n",
    "import gc\n",
    "\n",
    "%matplotlib inline"
   ]
  },
  {
   "cell_type": "markdown",
   "metadata": {},
   "source": [
    "# 获取数据"
   ]
  },
  {
   "cell_type": "code",
   "execution_count": 7,
   "metadata": {},
   "outputs": [
    {
     "data": {
      "text/plain": [
       "<matplotlib.axes._subplots.AxesSubplot at 0x7f172005cf90>"
      ]
     },
     "execution_count": 7,
     "metadata": {},
     "output_type": "execute_result"
    },
    {
     "data": {
      "image/png": "[encoded data removed]",
      "text/plain": [
       "<Figure size 432x288 with 1 Axes>"
      ]
     },
     "metadata": {
      "needs_background": "light"
     },
     "output_type": "display_data"
    }
   ],
   "source": [
    "view_data = pd.read_csv(\"../viewData/view_data.csv\")\n",
    "anchor_list = pd.read_csv(\"../viewData/anchor_list.csv\")\n",
    "anchor_list = anchor_list.reset_index()\n",
    "anchor_list['index'] = anchor_list['index'] + 1\n",
    "anchor_list.plot(x='index', y='count')"
   ]
  },
  {
   "cell_type": "markdown",
   "metadata": {},
   "source": [
    "# 删除出现频率过低的主播"
   ]
  },
  {
   "cell_type": "code",
   "execution_count": 9,
   "metadata": {},
   "outputs": [],
   "source": [
    "frequent_anchor = anchor_list[anchor_list['count']>=10]"
   ]
  },
  {
   "cell_type": "markdown",
   "metadata": {},
   "source": [
    "# 定义live_uid到index和index到live_uid的映射"
   ]
  },
  {
   "cell_type": "code",
   "execution_count": 10,
   "metadata": {},
   "outputs": [],
   "source": [
    "index2uid = dict([(i, uid) for i, uid in zip(frequent_anchor['index'], frequent_anchor['live_uid'])])\n",
    "\n",
    "uid2index = dict([(uid, i) for uid, i in zip(frequent_anchor['live_uid'], frequent_anchor['index'])])"
   ]
  },
  {
   "cell_type": "markdown",
   "metadata": {},
   "source": [
    "# 将观看数据处理成Iterable[Iterable[Int]]的格式"
   ]
  },
  {
   "cell_type": "code",
   "execution_count": 13,
   "metadata": {},
   "outputs": [],
   "source": [
    "view_data['index'] = view_data['live_uid'].map(uid2index)\n",
    "data = {}\n",
    "for uid, index in view_data[['uid', 'index']].dropna().values:\n",
    "    if uid not in data:\n",
    "        data[uid] = []\n",
    "    data[uid].append(int(index))"
   ]
  },
  {
   "cell_type": "code",
   "execution_count": 22,
   "metadata": {},
   "outputs": [],
   "source": [
    "# 随机打散，丢弃顺序信息\n",
    "for v in data.values():\n",
    "    random.shuffle(v)"
   ]
  },
  {
   "cell_type": "markdown",
   "metadata": {},
   "source": [
    "# 采样"
   ]
  },
  {
   "cell_type": "code",
   "execution_count": 24,
   "metadata": {},
   "outputs": [],
   "source": [
    "V = len(index2uid)\n",
    "\n",
    "sampling_table = keras.preprocessing.sequence.make_sampling_table(V + 1)"
   ]
  },
  {
   "cell_type": "code",
   "execution_count": 31,
   "metadata": {},
   "outputs": [],
   "source": [
    "def my_skipgrams(data, vocabulary_size,\n",
    "              window_size=4, negative_samples=1., shuffle=True,\n",
    "              categorical=False, sampling_table=None, seed=None):\n",
    "    \"\"\"\n",
    "    data: List[List[Int]]\n",
    "    vocabulary_size: number of all anchors\n",
    "    negative_samples: number of negative samples / number of positive samples\n",
    "    shuffle: whether to shuffle the return value\n",
    "    categorical: whether to use one-hot label or binary label\n",
    "    sampling_table: whether to use a sampling table to down sample frequent anchors and over sample infrequent ones\n",
    "    seed: whether to use a fixed random seed\n",
    "    returns: a list of instance pairs and a list of labels\n",
    "    \"\"\"\n",
    "    couples = []\n",
    "    labels = []\n",
    "    for sequence in data:\n",
    "        for i, wi in enumerate(sequence):\n",
    "            if not wi:\n",
    "                continue\n",
    "            if sampling_table is not None:\n",
    "                if sampling_table[wi] < random.random():\n",
    "                    continue\n",
    "\n",
    "            window_start = max(0, i - window_size)\n",
    "            window_end = min(len(sequence), i + window_size + 1)\n",
    "            for j in range(window_start, window_end):\n",
    "                if j != i:\n",
    "                    wj = sequence[j]\n",
    "                    if not wj:\n",
    "                        continue\n",
    "                    couples.append([wi, wj])\n",
    "                    if categorical:\n",
    "                        labels.append([0, 1])\n",
    "                    else:\n",
    "                        labels.append(1)\n",
    "\n",
    "    if negative_samples > 0:\n",
    "        num_negative_samples = int(len(labels) * negative_samples)\n",
    "        words = [c[0] for c in couples]\n",
    "        random.shuffle(words)\n",
    "\n",
    "        couples += [[words[i % len(words)],\n",
    "                     random.randint(1, vocabulary_size - 1)]\n",
    "                    for i in range(num_negative_samples)]\n",
    "        if categorical:\n",
    "            labels += [[1, 0]] * num_negative_samples\n",
    "        else:\n",
    "            labels += [0] * num_negative_samples\n",
    "\n",
    "    if shuffle:\n",
    "        if seed is None:\n",
    "            seed = random.randint(0, 10e6)\n",
    "        random.seed(seed)\n",
    "        random.shuffle(couples)\n",
    "        random.seed(seed)\n",
    "        random.shuffle(labels)\n",
    "\n",
    "    return couples, labels"
   ]
  },
  {
   "cell_type": "code",
   "execution_count": 29,
   "metadata": {},
   "outputs": [
    {
     "data": {
      "text/html": [
       "<div>\n",
       "<style scoped>\n",
       "    .dataframe tbody tr th:only-of-type {\n",
       "        vertical-align: middle;\n",
       "    }\n",
       "\n",
       "    .dataframe tbody tr th {\n",
       "        vertical-align: top;\n",
       "    }\n",
       "\n",
       "    .dataframe thead th {\n",
       "        text-align: right;\n",
       "    }\n",
       "</style>\n",
       "<table border=\"1\" class=\"dataframe\">\n",
       "  <thead>\n",
       "    <tr style=\"text-align: right;\">\n",
       "      <th></th>\n",
       "      <th>uid</th>\n",
       "      <th>live_uid</th>\n",
       "      <th>index</th>\n",
       "    </tr>\n",
       "  </thead>\n",
       "  <tbody>\n",
       "    <tr>\n",
       "      <td>0</td>\n",
       "      <td>159876050</td>\n",
       "      <td>724698357</td>\n",
       "      <td>7471.0</td>\n",
       "    </tr>\n",
       "    <tr>\n",
       "      <td>1</td>\n",
       "      <td>735586379</td>\n",
       "      <td>724698357</td>\n",
       "      <td>7471.0</td>\n",
       "    </tr>\n",
       "    <tr>\n",
       "      <td>2</td>\n",
       "      <td>735586379</td>\n",
       "      <td>724698357</td>\n",
       "      <td>7471.0</td>\n",
       "    </tr>\n",
       "    <tr>\n",
       "      <td>3</td>\n",
       "      <td>108339673</td>\n",
       "      <td>724698357</td>\n",
       "      <td>7471.0</td>\n",
       "    </tr>\n",
       "    <tr>\n",
       "      <td>4</td>\n",
       "      <td>108339673</td>\n",
       "      <td>724698357</td>\n",
       "      <td>7471.0</td>\n",
       "    </tr>\n",
       "    <tr>\n",
       "      <td>...</td>\n",
       "      <td>...</td>\n",
       "      <td>...</td>\n",
       "      <td>...</td>\n",
       "    </tr>\n",
       "    <tr>\n",
       "      <td>18928319</td>\n",
       "      <td>722748450</td>\n",
       "      <td>14237047</td>\n",
       "      <td>NaN</td>\n",
       "    </tr>\n",
       "    <tr>\n",
       "      <td>18928320</td>\n",
       "      <td>99570557</td>\n",
       "      <td>733632108</td>\n",
       "      <td>8719.0</td>\n",
       "    </tr>\n",
       "    <tr>\n",
       "      <td>18928321</td>\n",
       "      <td>134628369</td>\n",
       "      <td>733632108</td>\n",
       "      <td>8719.0</td>\n",
       "    </tr>\n",
       "    <tr>\n",
       "      <td>18928322</td>\n",
       "      <td>735200625</td>\n",
       "      <td>735587024</td>\n",
       "      <td>4197.0</td>\n",
       "    </tr>\n",
       "    <tr>\n",
       "      <td>18928323</td>\n",
       "      <td>35810362</td>\n",
       "      <td>735587024</td>\n",
       "      <td>4197.0</td>\n",
       "    </tr>\n",
       "  </tbody>\n",
       "</table>\n",
       "<p>18928324 rows × 3 columns</p>\n",
       "</div>"
      ],
      "text/plain": [
       "                uid   live_uid   index\n",
       "0         159876050  724698357  7471.0\n",
       "1         735586379  724698357  7471.0\n",
       "2         735586379  724698357  7471.0\n",
       "3         108339673  724698357  7471.0\n",
       "4         108339673  724698357  7471.0\n",
       "...             ...        ...     ...\n",
       "18928319  722748450   14237047     NaN\n",
       "18928320   99570557  733632108  8719.0\n",
       "18928321  134628369  733632108  8719.0\n",
       "18928322  735200625  735587024  4197.0\n",
       "18928323   35810362  735587024  4197.0\n",
       "\n",
       "[18928324 rows x 3 columns]"
      ]
     },
     "execution_count": 29,
     "metadata": {},
     "output_type": "execute_result"
    }
   ],
   "source": [
    "view_data"
   ]
  },
  {
   "cell_type": "code",
   "execution_count": 41,
   "metadata": {},
   "outputs": [],
   "source": [
    "couples, labels = my_skipgrams(data.values(), V, sampling_table=sampling_table)"
   ]
  },
  {
   "cell_type": "code",
   "execution_count": 77,
   "metadata": {},
   "outputs": [],
   "source": [
    "to_save = pd.DataFrame()"
   ]
  },
  {
   "cell_type": "code",
   "execution_count": 78,
   "metadata": {},
   "outputs": [],
   "source": [
    "to_save['target'] = [x[0] for x in couples]"
   ]
  },
  {
   "cell_type": "code",
   "execution_count": 79,
   "metadata": {},
   "outputs": [],
   "source": [
    "to_save['context'] = [x[1] for x in couples]\n",
    "to_save['label'] = labels"
   ]
  },
  {
   "cell_type": "code",
   "execution_count": 102,
   "metadata": {},
   "outputs": [],
   "source": [
    "to_save.set_index(\"target\").to_csv('train.csv')"
   ]
  },
  {
   "cell_type": "markdown",
   "metadata": {},
   "source": [
    "# 定义模型"
   ]
  },
  {
   "cell_type": "code",
   "execution_count": 20,
   "metadata": {},
   "outputs": [],
   "source": [
    "def item2vecModel(vocab_size, embedding_dim):\n",
    "    target = keras.layers.Input(shape=(1,), name='target')\n",
    "    context = keras.layers.Input(shape=(1,), name='context')\n",
    "    shared_embedding = keras.layers.Embedding(vocab_size, embedding_dim, input_length=1, name='shared_embedding')\n",
    "    embedding_target = shared_embedding(target)\n",
    "    embedding_context = shared_embedding(context)\n",
    "    merged_vector = keras.layers.dot([embedding_target, embedding_context], axes=-1)\n",
    "    reshaped_vector = keras.layers.Reshape((1,), input_shape=(1,1))(merged_vector)\n",
    "    prediction = keras.layers.Dense(1, input_shape=(1,), activation='sigmoid')(reshaped_vector)\n",
    "    model = keras.models.Model(inputs=[target, context], outputs=prediction)\n",
    "    model.compile(optimizer='adam', loss='binary_crossentropy')\n",
    "    return model"
   ]
  }
 ],
 "metadata": {
  "kernelspec": {
   "display_name": "Python 3",
   "language": "python",
   "name": "python3"
  },
  "language_info": {
   "codemirror_mode": {
    "name": "ipython",
    "version": 3
   },
   "file_extension": ".py",
   "mimetype": "text/x-python",
   "name": "python",
   "nbconvert_exporter": "python",
   "pygments_lexer": "ipython3",
   "version": "3.7.6"
  }
 },
 "nbformat": 4,
 "nbformat_minor": 2
}
